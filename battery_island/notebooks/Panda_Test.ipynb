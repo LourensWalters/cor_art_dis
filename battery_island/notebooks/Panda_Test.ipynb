{
 "cells": [
  {
   "cell_type": "code",
   "execution_count": 1,
   "metadata": {},
   "outputs": [],
   "source": [
    "import pandas as pd"
   ]
  },
  {
   "cell_type": "code",
   "execution_count": 2,
   "metadata": {},
   "outputs": [
    {
     "ename": "FileNotFoundError",
     "evalue": "[Errno 2] No such file or directory: './Data/batch1.pkl'",
     "output_type": "error",
     "traceback": [
      "\u001B[1;31m---------------------------------------------------------------------------\u001B[0m",
      "\u001B[1;31mFileNotFoundError\u001B[0m                         Traceback (most recent call last)",
      "Input \u001B[1;32mIn [2]\u001B[0m, in \u001B[0;36m<cell line: 6>\u001B[1;34m()\u001B[0m\n\u001B[0;32m      3\u001B[0m \u001B[38;5;28;01mimport\u001B[39;00m \u001B[38;5;21;01mmatplotlib\u001B[39;00m\u001B[38;5;21;01m.\u001B[39;00m\u001B[38;5;21;01mpyplot\u001B[39;00m \u001B[38;5;28;01mas\u001B[39;00m \u001B[38;5;21;01mplt\u001B[39;00m\n\u001B[0;32m      4\u001B[0m \u001B[38;5;28;01mimport\u001B[39;00m \u001B[38;5;21;01mpickle\u001B[39;00m\n\u001B[1;32m----> 6\u001B[0m batch1 \u001B[38;5;241m=\u001B[39m pickle\u001B[38;5;241m.\u001B[39mload(\u001B[38;5;28;43mopen\u001B[39;49m\u001B[43m(\u001B[49m\u001B[38;5;124;43mr\u001B[39;49m\u001B[38;5;124;43m'\u001B[39;49m\u001B[38;5;124;43m./Data/batch1.pkl\u001B[39;49m\u001B[38;5;124;43m'\u001B[39;49m\u001B[43m,\u001B[49m\u001B[43m \u001B[49m\u001B[38;5;124;43m'\u001B[39;49m\u001B[38;5;124;43mrb\u001B[39;49m\u001B[38;5;124;43m'\u001B[39;49m\u001B[43m)\u001B[49m)\n\u001B[0;32m      8\u001B[0m \u001B[38;5;66;03m#remove batteries that do not reach 80% capacity\u001B[39;00m\n\u001B[0;32m      9\u001B[0m \u001B[38;5;28;01mdel\u001B[39;00m batch1[\u001B[38;5;124m'\u001B[39m\u001B[38;5;124mb1c8\u001B[39m\u001B[38;5;124m'\u001B[39m]\n",
      "\u001B[1;31mFileNotFoundError\u001B[0m: [Errno 2] No such file or directory: './Data/batch1.pkl'"
     ]
    }
   ],
   "source": [
    "# from load data notebook\n",
    "import numpy as np\n",
    "import matplotlib.pyplot as plt\n",
    "import pickle\n",
    "\n",
    "batch1 = pickle.load(open(r'./Data/batch1.pkl', 'rb'))\n",
    "\n",
    "#remove batteries that do not reach 80% capacity\n",
    "del batch1['b1c8']\n",
    "del batch1['b1c10']\n",
    "del batch1['b1c12']\n",
    "del batch1['b1c13']\n",
    "del batch1['b1c22']"
   ]
  },
  {
   "cell_type": "code",
   "execution_count": null,
   "metadata": {},
   "outputs": [],
   "source": [
    "batch1['b1c15']['cycles']['10']"
   ]
  },
  {
   "cell_type": "code",
   "execution_count": null,
   "metadata": {},
   "outputs": [],
   "source": [
    "print('cell keys:', batch1['b1c15'].keys())\n",
    "print('cycle keys (1 cycle):', batch1['b1c15']['cycles']['15'].keys())\n",
    "for (k, v) in batch1['b1c15']['cycles']['15'].items():\n",
    "    print(k, '\\t', len(v))\n",
    "print('summary keys:', batch1['b1c15']['summary'].keys())\n",
    "for (k, v) in batch1['b1c15']['summary'].items():\n",
    "    print(k, '\\t', len(v))"
   ]
  },
  {
   "cell_type": "code",
   "execution_count": null,
   "metadata": {},
   "outputs": [],
   "source": [
    "# smaller batch test\n",
    "batch_small = dict([('b1c15', batch1['b1c15']), ('b1c16', batch1['b1c16'])])\n",
    "df_small = None\n",
    "for i, cell in batch_small.items():\n",
    "    print('processing cell', i)\n",
    "    frames = [ pd.DataFrame.from_dict(cycle, orient='index').transpose() for j, cycle in cell['cycles'].items() ]\n",
    "    df_c = pd.concat(frames, keys=cell['cycles'].keys())\n",
    "    df_c.insert(loc=0, column='cell', value=i)\n",
    "    df_c.insert(loc=1, column='charge_policy', value=cell['charge_policy'])\n",
    "    # TODO other summary fields\n",
    "    if df_small is None:\n",
    "        df_small = df_c\n",
    "    else:\n",
    "        df_small = df_small.append(df_c)\n",
    "\n",
    "df_small.reset_index(inplace=True)\n",
    "df_small.rename(index=str, columns={'level_0': 'cycle', 'level_1': 'step'}, inplace=True)"
   ]
  },
  {
   "cell_type": "code",
   "execution_count": null,
   "metadata": {},
   "outputs": [],
   "source": [
    "print(df_small.shape)\n",
    "# last 50 steps of cell 16\n",
    "df_small.iloc[-5:]\n",
    "# first 50 steps of cell 15\n",
    "# df_small.head(50)"
   ]
  },
  {
   "cell_type": "code",
   "execution_count": null,
   "metadata": {},
   "outputs": [],
   "source": [
    "# plot dQdV's for one test cell\n",
    "plt.figure(figsize=(20,10))\n",
    "for i, cycle in batch1[\"b1c5\"][\"cycles\"].items():\n",
    "    if int(i) % 200 == 0:\n",
    "        plt.plot(cycle[\"dQdV\"][:100], label=i)\n",
    "plt.title('dQdV, 1st 100 steps')\n",
    "plt.legend()\n",
    "plt.show()"
   ]
  },
  {
   "cell_type": "code",
   "execution_count": null,
   "metadata": {},
   "outputs": [],
   "source": [
    "# the whole shebang\n",
    "# TAKES A LONG TIME\n",
    "df = None\n",
    "for i, cell in batch1.items():\n",
    "    print('processing cell', i)\n",
    "    frames = [ pd.DataFrame.from_dict(cycle, orient='index').transpose() for j, cycle in cell['cycles'].items() ]\n",
    "    df_c = pd.concat(frames, keys=cell['cycles'].keys())\n",
    "    df_c.insert(loc=0, column='cell', value=i)\n",
    "    df_c.insert(loc=1, column='charge_policy', value=cell['charge_policy'])\n",
    "    # TODO other summary fields\n",
    "    if df is None:\n",
    "        df = df_c\n",
    "    else:\n",
    "        df = df.append(df_c)\n",
    "\n",
    "df.reset_index(inplace=True)\n",
    "df.rename(index=str, columns={'level_0': 'cycle', 'level_1': 'step'})"
   ]
  },
  {
   "cell_type": "code",
   "execution_count": null,
   "metadata": {},
   "outputs": [],
   "source": [
    "print(df.shape)  # (36468361, 11)\n",
    "df.head()"
   ]
  },
  {
   "cell_type": "code",
   "execution_count": null,
   "metadata": {},
   "outputs": [],
   "source": [
    "df.charge_policy.value_counts()"
   ]
  },
  {
   "cell_type": "code",
   "execution_count": null,
   "metadata": {},
   "outputs": [],
   "source": []
  }
 ],
 "metadata": {
  "kernelspec": {
   "display_name": "Python 3",
   "language": "python",
   "name": "python3"
  },
  "language_info": {
   "codemirror_mode": {
    "name": "ipython",
    "version": 3
   },
   "file_extension": ".py",
   "mimetype": "text/x-python",
   "name": "python",
   "nbconvert_exporter": "python",
   "pygments_lexer": "ipython3",
   "version": "3.7.3"
  }
 },
 "nbformat": 4,
 "nbformat_minor": 2
}